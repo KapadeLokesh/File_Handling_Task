{
 "cells": [
  {
   "cell_type": "markdown",
   "id": "5fff711b-7746-48de-a729-45d00f9b4e82",
   "metadata": {},
   "source": [
    "# 1) What are the different modes used when opening a file in Python (e.g., r, w, a, etc.), and what do they mean?\n"
   ]
  },
  {
   "cell_type": "code",
   "execution_count": 41,
   "id": "1a75a72b-90a8-4804-b58c-0e239ab788e3",
   "metadata": {},
   "outputs": [
    {
     "name": "stdout",
     "output_type": "stream",
     "text": [
      "Different modes used when opening a file in Python:\n",
      "\n",
      "- 'r': Read (default). Opens the file for reading. The file must exist.\n",
      "- 'w': Write. Opens the file for writing. If the file exists, itâ€™s truncated (i.e., cleared before writing). If the file doesnâ€™t exist, it will be created.\n",
      "- 'a': Append. Opens the file for writing, but doesnâ€™t truncate it. Data is written at the end of the file. If the file doesn't exist, it's created.\n",
      "- 'x': Exclusive creation. Opens the file for writing but fails if the file already exists.\n",
      "- 'b': Binary. Used to open a file in binary mode (e.g., 'rb' or 'wb'). It means you're working with raw bytes, not text.\n",
      "- 't': Text (default). Used to open a file in text mode (e.g., 'rt' or 'wt'), which is usually the default mode and deals with strings rather than bytes.\n",
      "- 'r+': Read/write. Opens the file for both reading and writing. The file must exist.\n",
      "- 'w+': Write/read. Opens the file for both reading and writing, truncating the file first (if it exists).\n",
      "- 'a+': Append/read. Opens the file for both reading and appending. It will create the file if it doesn't exist.\n"
     ]
    }
   ],
   "source": [
    "# 'r' - Read mode\n",
    "with open(r'C:/Users/LokeshKapde/Documents/New folder/Python Tasks Repo/example.txt', 'r') as file:\n",
    "    content = file.read()\n",
    "    print(content)\n"
   ]
  },
  {
   "cell_type": "code",
   "execution_count": 47,
   "id": "8f3df6b8-16b2-4c37-b2fc-affc12b7e79c",
   "metadata": {},
   "outputs": [],
   "source": [
    "# 'w' - Write mode (will overwrite the file if it exists)\n",
    "with open(r'C:/Users/LokeshKapde/Documents/New folder/Python Tasks Repo/output.txt', 'w') as file:\n",
    "    file.write(\"This is some text.\")\n"
   ]
  },
  {
   "cell_type": "code",
   "execution_count": 1,
   "id": "9c5b9dcd-dc7e-4e23-8b2a-9b1b18be4da1",
   "metadata": {},
   "outputs": [],
   "source": [
    "# 'a' - Append mode (adds to the file if it exists)\n",
    "with open('output.txt', 'a') as file:\n",
    "    file.write(\"\\nThis is the Appended text.\")\n"
   ]
  },
  {
   "cell_type": "code",
   "execution_count": 3,
   "id": "31393f3b-7f8c-4fd0-88af-5f726fcff6d5",
   "metadata": {},
   "outputs": [
    {
     "name": "stdout",
     "output_type": "stream",
     "text": [
      "This is some text.\n",
      "This is the Appended text.\n"
     ]
    }
   ],
   "source": [
    "with open(r'C:/Users/LokeshKapde/Documents/New folder/Python Tasks Repo/output.txt', 'r') as file:\n",
    "    content = file.read()\n",
    "    print(content)"
   ]
  },
  {
   "cell_type": "code",
   "execution_count": 9,
   "id": "405a406c-93f8-446e-b079-7eda0ecfd0c3",
   "metadata": {},
   "outputs": [
    {
     "name": "stdout",
     "output_type": "stream",
     "text": [
      "b'This is some text.\\r\\nThis is the Appended text.'\n"
     ]
    }
   ],
   "source": [
    "# 'rb' - Read in binary mode\n",
    "with open(r'C:/Users/LokeshKapde/Documents/New folder/Python Tasks Repo/output.txt', 'rb') as file:\n",
    "    content = file.read()\n",
    "    print(content)\n"
   ]
  },
  {
   "cell_type": "code",
   "execution_count": 13,
   "id": "ee07e606-bcbf-4de6-b466-0c71e512933e",
   "metadata": {},
   "outputs": [
    {
     "name": "stdout",
     "output_type": "stream",
     "text": [
      "Some text\n"
     ]
    }
   ],
   "source": [
    "# 'w+' - Write and read mode (file is overwritten if it exists)\n",
    "with open('data.txt', 'w+') as file:\n",
    "    file.write(\"Some text\")\n",
    "    file.seek(0)  # Go back to the beginning\n",
    "    print(file.read())  # Read after writing\n"
   ]
  },
  {
   "cell_type": "code",
   "execution_count": 17,
   "id": "43c1d087-90b7-41d1-9f1d-ed9696a3e47c",
   "metadata": {},
   "outputs": [
    {
     "name": "stdout",
     "output_type": "stream",
     "text": [
      "This is some text.\n",
      "This is the Appended text.\n",
      "Appended new text.\n"
     ]
    }
   ],
   "source": [
    "# 'a+' - Append and read mode\n",
    "with open('output.txt', 'a+') as file:\n",
    "    file.write(\"\\nAppended new text.\")\n",
    "    file.seek(0)\n",
    "    content = file.read()\n",
    "    print(content)  # Reads the current content of the file"
   ]
  },
  {
   "cell_type": "markdown",
   "id": "281df1cc-7104-4c58-90a9-c7cae83c1422",
   "metadata": {},
   "source": [
    "# 2) Explain the difference between text files and binary files."
   ]
  },
  {
   "cell_type": "markdown",
   "id": "2dc48633-b959-4385-b022-2a864c69abcf",
   "metadata": {},
   "source": [
    "**Text files:** \n",
    "- Used for storing readable characters (like documents or code), and their data is usually encoded in a way that’s easy to understand and manipulate using a simple text editor.\n",
    "- They store text in the form of characters (letters, numbers, punctuation, etc.) using a character encoding standard like ASCII, UTF-8.\n",
    "- You can open a text file in any text editor (like Notepad, Sublime Text, or VS Code).\n",
    "-  .txt, .csv, .html, .json"
   ]
  },
  {
   "cell_type": "code",
   "execution_count": 49,
   "id": "17f38885-136c-49fd-a68d-233b16cb898a",
   "metadata": {},
   "outputs": [
    {
     "name": "stdout",
     "output_type": "stream",
     "text": [
      "This is some text.\n",
      "This is the Appended text.\n",
      "Appended new text.\n"
     ]
    }
   ],
   "source": [
    "with open(r'C:/Users/LokeshKapde/Documents/New folder/Python Tasks Repo/output.txt', 'r') as file:\n",
    "    content = file.read()\n",
    "    print(content)"
   ]
  },
  {
   "cell_type": "markdown",
   "id": "ddba540e-d72e-4025-bc33-4386a8ddd0d3",
   "metadata": {},
   "source": [
    "**Binary files:** \n",
    "- To store data in a raw format, which is not meant to be human-readable but is more efficient for storing complex data like media, programs, or compressed files.\n",
    "- This data is stored as a sequence of bytes, which could represent anything: text, images, sounds, or other types of data.\n",
    "- If you open a binary file in a text editor, you’ll see a bunch of gibberish characters because the data isn’t stored as readable text.\n",
    "- .jpg, .png, .mp3, .exe, .pdf, .dat, .zip, etc."
   ]
  },
  {
   "cell_type": "code",
   "execution_count": 45,
   "id": "017c3a49-b434-4f42-9046-635a460005e1",
   "metadata": {},
   "outputs": [
    {
     "name": "stdout",
     "output_type": "stream",
     "text": [
      "5468697320697320736f6d6520746578742e0d0a546869732069732074686520417070656e64656420746578742e0d0a417070656e646564206e657720746578742e\n"
     ]
    }
   ],
   "source": [
    "# Open a file in binary read mode\n",
    "with open(r'C:/Users/LokeshKapde/Documents/New folder/Python Tasks Repo/output.txt', \"rb\") as file:\n",
    "    # Read the entire content of the file\n",
    "    binary_data = file.read()\n",
    "    # Print the file in hexadecimal format\n",
    "    print(binary_data.hex())\n"
   ]
  },
  {
   "cell_type": "markdown",
   "id": "02b5f71f-ecee-4958-9e44-8d4995c34539",
   "metadata": {},
   "source": [
    "# 3) What is the purpose of the with statement when working with files in Python."
   ]
  },
  {
   "cell_type": "markdown",
   "id": "4e31cb35-7a81-4c97-a359-d690a786c025",
   "metadata": {},
   "source": [
    "- The with statement in Python is used to simplify the process of working with resources that need to be explicitly managed, such as files, network connections, or locks.\n",
    "- When working with files specifically, it helps manage the opening and closing of the file in a safe and efficient manner.\n",
    "- When you use with to open a file, Python automatically calls the file’s __enter__() method when the file is opened, and it automatically calls __exit__() when the block of code inside the with statement is done. This is part of the context manager protocol.\n",
    "- It makes file handling cleaner, safer, and less error-prone by ensuring that files are always closed, even if an exception occurs."
   ]
  },
  {
   "cell_type": "code",
   "execution_count": 69,
   "id": "6e10838c-53f3-410b-8b00-0af4d2005913",
   "metadata": {},
   "outputs": [
    {
     "name": "stdout",
     "output_type": "stream",
     "text": [
      "This is some text.\n",
      "This is the Appended text.\n",
      "Appended new text.\n"
     ]
    }
   ],
   "source": [
    "# Without using with: \n",
    "\n",
    "file = open(r'C:/Users/LokeshKapde/Documents/New folder/Python Tasks Repo/output.txt', \"r\")  # Open the file\n",
    "try:\n",
    "    content = file.read()  # Read the content\n",
    "    print(content)\n",
    "finally:\n",
    "    file.close()  # Ensure the file is closed, even if an error occurs\n"
   ]
  },
  {
   "cell_type": "code",
   "execution_count": 71,
   "id": "76e51f03-fc2f-4b09-a93d-4aa4fe5bad8b",
   "metadata": {},
   "outputs": [
    {
     "name": "stdout",
     "output_type": "stream",
     "text": [
      "This is some text.\n",
      "This is the Appended text.\n",
      "Appended new text.\n"
     ]
    }
   ],
   "source": [
    "# Using with:\n",
    "\n",
    "with open(r'C:/Users/LokeshKapde/Documents/New folder/Python Tasks Repo/output.txt', \"r\") as file:\n",
    "    content = file.read()  # The file is automatically closed when done\n",
    "    print(content)\n"
   ]
  },
  {
   "cell_type": "markdown",
   "id": "3c034928-657f-4df6-8c6e-f71893a9147f",
   "metadata": {},
   "source": [
    "#  4) What happens if you try to read from a file that does not exist? How can you prevent the program from crashing?"
   ]
  },
  {
   "cell_type": "markdown",
   "id": "2fb5cc6a-7f19-42d2-ab23-be90320cd9f4",
   "metadata": {},
   "source": [
    "- If you try to read from a file that does not exist in Python, it will raise an error, specifically a FileNotFoundError.\n",
    "- To prevent the program from crashing when trying to open a file that may not exist, you should handle the potential exception using try-except blocks.\n",
    "- If you're trying to create a new file, you can use 'x' mode when opening a file. This will create the file if it doesn't exist, but if it does exist, it will raise a FileExistsError."
   ]
  },
  {
   "cell_type": "code",
   "execution_count": 77,
   "id": "27a57ba9-f5f0-4154-a000-85d2aa8c547f",
   "metadata": {},
   "outputs": [
    {
     "name": "stdout",
     "output_type": "stream",
     "text": [
      "The file does not exist!\n"
     ]
    }
   ],
   "source": [
    "# Trying to read a non-existing file\n",
    "try:\n",
    "    with open(\"non_existent_file.txt\", \"r\") as file:\n",
    "        content = file.read()\n",
    "except FileNotFoundError:\n",
    "    print(\"The file does not exist!\")\n"
   ]
  },
  {
   "cell_type": "code",
   "execution_count": 85,
   "id": "fa3610d2-dfa7-4b52-a065-1ce2a3bba209",
   "metadata": {},
   "outputs": [
    {
     "name": "stdout",
     "output_type": "stream",
     "text": [
      "Error: The file already exists.\n"
     ]
    }
   ],
   "source": [
    "# Using x mode:\n",
    "try:\n",
    "    with open(\"example.txt\", \"x\") as file:\n",
    "        file.write(\"This is a new file!\")\n",
    "except FileExistsError:\n",
    "    print(\"Error: The file already exists.\")\n"
   ]
  },
  {
   "cell_type": "markdown",
   "id": "d812d200-2e04-4a8b-a86f-58aeaeb613dc",
   "metadata": {},
   "source": [
    "# 5) What is the difference between using open() and close() explicitly versus using a context manager (with statement) to handle file operations?"
   ]
  },
  {
   "cell_type": "markdown",
   "id": "96ca219d-352e-420d-a9d3-c9c4c3f8c567",
   "metadata": {},
   "source": [
    "**Using open() and close()**\n",
    "\n",
    "- You open the file with open() and need to remember to close it with close().\n",
    "- If you forget to close the file, it can cause problems like memory issues or the file staying locked.\n",
    "- You manually open the file using open() and You must explicitly call close()."
   ]
  },
  {
   "cell_type": "markdown",
   "id": "219eae99-52f9-43f6-b258-5e6b47df2441",
   "metadata": {},
   "source": [
    "**Using a context manager (with statement)**\n",
    "- The with statement automatically opens and closes the file for you.\n",
    "- It's safer and easier because you don’t need to worry about forgetting to close the file.\n",
    "- The file is opened and closed automatically when entering the with block."
   ]
  },
  {
   "cell_type": "markdown",
   "id": "9dcc89ff-81f4-4218-a66b-f7abce18ef18",
   "metadata": {},
   "source": [
    "# 6) Describe how you would handle reading and writing CSV, JSON, or XML files using Python.\n",
    "\n",
    "1. CSV File Handling:\n",
    "- Reading: Use the csv.reader() to read CSV data.\n",
    "- Writing: Use csv.writer() to write data to a CSV file.\n",
    "- Example: Writing a list of names, ages, and cities, and then reading the file and printing its contents.\n",
    "2. JSON File Handling:\n",
    "- Reading: Use json.load() to read JSON data and convert it to a Python dictionary or list.\n",
    "- Writing: Use json.dump() to write data to a JSON file with optional indentation for readability.\n",
    "- Example: Writing a dictionary with people’s information, and then reading and printing the formatted JSON data.\n",
    "3. XML File Handling:\n",
    "- Reading: Use xml.etree.ElementTree to parse XML files and iterate through the tags and attributes.\n",
    "- Writing: Use ElementTree.write() to write XML data. You can create elements using ET.Element() and ET.SubElement().\n",
    "- Example: Writing an XML structure for people's names, ages, and cities, and then reading and printing the tags and attributes."
   ]
  },
  {
   "cell_type": "code",
   "execution_count": 7,
   "id": "83866486-cf8e-4507-831d-3c56f9cf04c6",
   "metadata": {},
   "outputs": [
    {
     "name": "stdout",
     "output_type": "stream",
     "text": [
      "Data has been written to people.csv\n",
      "['Name', 'Age', 'City']\n",
      "['Loki', '27', 'LA']\n",
      "['Alice', '30', 'New York']\n",
      "['Bob', '25', 'San Francisco']\n"
     ]
    }
   ],
   "source": [
    "# CSV Handling Functions\n",
    "\n",
    "import csv\n",
    "\n",
    "def read_csv(file_name):\n",
    "    try:\n",
    "        with open(file_name, mode='r') as file:\n",
    "            reader = csv.reader(file)\n",
    "            for row in reader:\n",
    "                print(row)  # Print each row\n",
    "    except FileNotFoundError:\n",
    "        print(f\"Error: The file {file_name} does not exist.\")\n",
    "        \n",
    "def write_csv(file_name, data):\n",
    "    try:\n",
    "        with open(file_name, mode='w', newline='') as file:\n",
    "            writer = csv.writer(file)\n",
    "            writer.writerows(data)  # Write multiple rows at once\n",
    "        print(f\"Data has been written to {file_name}\")\n",
    "    except Exception as e:\n",
    "        print(f\"Error writing to {file_name}: {e}\")\n",
    "\n",
    "# Example Data to Write\n",
    "csv_data = [['Name', 'Age', 'City'], ['Loki', 27, 'LA'],['Alice', 30, 'New York'], ['Bob', 25, 'San Francisco']]\n",
    "\n",
    "# Reading and Writing CSV\n",
    "write_csv('people.csv', csv_data)\n",
    "read_csv('people.csv')\n"
   ]
  },
  {
   "cell_type": "code",
   "execution_count": 11,
   "id": "098cf23b-d39e-4ece-93ae-181720b19ca6",
   "metadata": {},
   "outputs": [
    {
     "name": "stdout",
     "output_type": "stream",
     "text": [
      "Data has been written to people.json\n",
      "{\n",
      "    \"people\": [\n",
      "        {\n",
      "            \"name\": \"Loki\",\n",
      "            \"age\": 28,\n",
      "            \"city\": \"LA\"\n",
      "        },\n",
      "        {\n",
      "            \"name\": \"Alice\",\n",
      "            \"age\": 30,\n",
      "            \"city\": \"New York\"\n",
      "        },\n",
      "        {\n",
      "            \"name\": \"Bob\",\n",
      "            \"age\": 25,\n",
      "            \"city\": \"San Francisco\"\n",
      "        }\n",
      "    ]\n",
      "}\n"
     ]
    }
   ],
   "source": [
    "# JSON Handling Functions\n",
    "\n",
    "import json\n",
    "\n",
    "def read_json(file_name):\n",
    "    try:\n",
    "        with open(file_name, 'r') as file:\n",
    "            data = json.load(file)  # Load the JSON data into a Python object\n",
    "            print(json.dumps(data, indent=4))  # Print the JSON data with indentation\n",
    "    except FileNotFoundError:\n",
    "        print(f\"Error: The file {file_name} does not exist.\")\n",
    "    except json.JSONDecodeError:\n",
    "        print(f\"Error: The file {file_name} is not valid JSON.\")\n",
    "        \n",
    "def write_json(file_name, data):\n",
    "    try:\n",
    "        with open(file_name, 'w') as file:\n",
    "            json.dump(data, file, indent=4)  # Write the data to the JSON file\n",
    "        print(f\"Data has been written to {file_name}\")\n",
    "    except Exception as e:\n",
    "        print(f\"Error writing to {file_name}: {e}\")\n",
    "\n",
    "json_data = {'people': [{'name': 'Loki', 'age': 28, 'city': 'LA'}, {'name': 'Alice', 'age': 30, 'city': 'New York'}, {'name': 'Bob', 'age': 25, 'city': 'San Francisco'}]}\n",
    "\n",
    "# Reading and Writing JSON\n",
    "write_json('people.json', json_data)\n",
    "read_json('people.json')"
   ]
  },
  {
   "cell_type": "code",
   "execution_count": 13,
   "id": "bd7893bd-b63c-4194-8999-68a1c2bd3e5b",
   "metadata": {},
   "outputs": [
    {
     "name": "stdout",
     "output_type": "stream",
     "text": [
      "Data has been written to people.xml\n",
      "Tag: person, Attributes: {'name': 'Alice'}\n",
      "Tag: person, Attributes: {'name': 'Bob'}\n"
     ]
    }
   ],
   "source": [
    "# XML Handling Functions\n",
    "\n",
    "import xml.etree.ElementTree as ET\n",
    "\n",
    "def read_xml(file_name):\n",
    "    try:\n",
    "        tree = ET.parse(file_name)\n",
    "        root = tree.getroot()  # Get the root element of the XML\n",
    "        for child in root:\n",
    "            print(f\"Tag: {child.tag}, Attributes: {child.attrib}\")  # Print tags and attributes\n",
    "    except FileNotFoundError:\n",
    "        print(f\"Error: The file {file_name} does not exist.\")\n",
    "    except ET.ParseError:\n",
    "        print(f\"Error: The file {file_name} is not valid XML.\")\n",
    "        \n",
    "def write_xml(file_name, data):\n",
    "    try:\n",
    "        root = ET.Element(\"people\")\n",
    "        for person_data in data:\n",
    "            person = ET.SubElement(root, \"person\", name=person_data['name'])\n",
    "            ET.SubElement(person, \"age\").text = str(person_data['age'])\n",
    "            ET.SubElement(person, \"city\").text = person_data['city']\n",
    "\n",
    "        tree = ET.ElementTree(root)\n",
    "        tree.write(file_name, encoding=\"utf-8\", xml_declaration=True)\n",
    "        print(f\"Data has been written to {file_name}\")\n",
    "    except Exception as e:\n",
    "        print(f\"Error writing to {file_name}: {e}\")\n",
    "\n",
    "xml_data = [{'name': 'Alice', 'age': 30, 'city': 'New York'}, {'name': 'Bob', 'age': 25, 'city': 'San Francisco'}]\n",
    "\n",
    "# Reading and Writing XML\n",
    "write_xml('people.xml', xml_data)\n",
    "read_xml('people.xml')"
   ]
  },
  {
   "cell_type": "markdown",
   "id": "76c482f9-1902-492d-ae3a-ee4735ef8dd5",
   "metadata": {},
   "source": [
    "# 7) If you were developing a backup system, how would you handle file read/write operations to ensure data integrity and avoid corruption?"
   ]
  },
  {
   "cell_type": "markdown",
   "id": "11c8952e-08be-4570-8d7f-7245ce606cd7",
   "metadata": {},
   "source": [
    "- __Atomic Operations:__ Ensure that file read/write operations are atomic to prevent partial updates.\n",
    "- __Checksums and Hashing:__ Use checksums to verify file integrity before and after backups.\n",
    "- __Versioning:__ Keep multiple versions of backups, allowing rollback to earlier, uncorrupted files.\n",
    "- __Transactional File System/Journaling:__ Use journaling to commit changes in a safe, recoverable manner.\n",
    "- __Redundancy:__ Implement redundant storage (e.g., RAID, cloud replication) to protect against hardware failure.\n",
    "- __Error Detection/Correction:__ Use error detection codes to recover from minor data errors.\n",
    "- __Synchronization and Locking:__ Ensure proper file locking to prevent conflicts during concurrent access.\n",
    "- __Copy-on-Write:__ Replace files only after completing changes to avoid corruption in case of failure.\n",
    "- __Testing & Validation:__ Regularly test backups for integrity to ensure they can be restored successfully."
   ]
  },
  {
   "cell_type": "code",
   "execution_count": null,
   "id": "f90dcabe-2a9d-4f21-96d0-8957f3e876c9",
   "metadata": {},
   "outputs": [],
   "source": []
  }
 ],
 "metadata": {
  "kernelspec": {
   "display_name": "Python 3 (ipykernel)",
   "language": "python",
   "name": "python3"
  },
  "language_info": {
   "codemirror_mode": {
    "name": "ipython",
    "version": 3
   },
   "file_extension": ".py",
   "mimetype": "text/x-python",
   "name": "python",
   "nbconvert_exporter": "python",
   "pygments_lexer": "ipython3",
   "version": "3.12.3"
  }
 },
 "nbformat": 4,
 "nbformat_minor": 5
}
